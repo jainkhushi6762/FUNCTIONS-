{
  "nbformat": 4,
  "nbformat_minor": 0,
  "metadata": {
    "colab": {
      "provenance": []
    },
    "kernelspec": {
      "name": "python3",
      "display_name": "Python 3"
    },
    "language_info": {
      "name": "python"
    }
  },
  "cells": [
    {
      "cell_type": "markdown",
      "source": [
        "# ***FUNCTIONS***\n",
        "# ***ASSIGNMENT***"
      ],
      "metadata": {
        "id": "YlPNKAM_5XTN"
      }
    },
    {
      "cell_type": "markdown",
      "source": [
        "# ***THEORY QUESTIONS***"
      ],
      "metadata": {
        "id": "l7IUaUx34Kvd"
      }
    },
    {
      "cell_type": "markdown",
      "source": [
        "Note: For each theory Question, give at least one example."
      ],
      "metadata": {
        "id": "aN53Y463UqZG"
      }
    },
    {
      "cell_type": "markdown",
      "source": [
        "1. What is the difference between a function and a method in Python?\n",
        "\n",
        "ans-  A function is a block of reusable code that performs a specific task. It is defined using the def keyword.\n",
        "\n",
        "A method is also a block of reusable code, but it is associated with an object or a class. Methods are called on an object using dot notation (object.method()).\n",
        "\n",
        "Here's an example:"
      ],
      "metadata": {
        "id": "Qa5jQq5JUIUX"
      }
    },
    {
      "cell_type": "code",
      "source": [
        "# This is a function\n",
        "def greet(name):\n",
        "  return f\"Hello, {name}!\"\n",
        "\n",
        "print(greet(\"Alice\"))\n",
        "\n",
        "# This is a method (the `upper()` method of a string object)\n",
        "my_string = \"hello\"\n",
        "print(my_string.upper())"
      ],
      "metadata": {
        "id": "hbVlaEDJvOcl"
      },
      "execution_count": null,
      "outputs": []
    },
    {
      "cell_type": "markdown",
      "source": [
        "2. Explain the concept of function arguments and parameters in Python.\n",
        "\n",
        "ANS  -:\n",
        "In Python, parameters are the names listed in the function definition. They are placeholders for the values that will be passed into the function when it is called. Arguments are the actual values that are passed to the function when it is called."
      ],
      "metadata": {
        "id": "d3RxiVnHUlKf"
      }
    },
    {
      "cell_type": "code",
      "source": [
        "def add_numbers(x, y): # x and y are parameters\n",
        "  return x + y\n",
        "\n",
        "result = add_numbers(5, 3) # 5 and 3 are arguments\n",
        "print(result)"
      ],
      "metadata": {
        "colab": {
          "base_uri": "https://localhost:8080/"
        },
        "id": "1HnDtn1cvsJo",
        "outputId": "a5d68f6d-aeaa-47da-b7b7-e7de0d3e3f2c"
      },
      "execution_count": 1,
      "outputs": [
        {
          "output_type": "stream",
          "name": "stdout",
          "text": [
            "8\n"
          ]
        }
      ]
    },
    {
      "cell_type": "markdown",
      "source": [
        "In this example, x and y are parameters defined in the add_numbers function. When we call the function with add_numbers(5, 3), the values 5 and 3 are the arguments passed to the function"
      ],
      "metadata": {
        "id": "DkHoFQBxvulM"
      }
    },
    {
      "cell_type": "markdown",
      "source": [
        "3. What are the different ways to define and call a function in Python?\n",
        "\n",
        "ANS - : In Python, there are multiple ways to define and call functions, each with its own use case. The most common approach involves the def keyword, but you can also use anonymous lambda functions, nested functions, and recursion ."
      ],
      "metadata": {
        "id": "7twPiRBsUu2y"
      }
    },
    {
      "cell_type": "markdown",
      "source": [
        "Defining functions:\n",
        "\n",
        "* Using ***def***  keyword: This is the most common way to define a function."
      ],
      "metadata": {
        "id": "jCoyQC3SwHTX"
      }
    },
    {
      "cell_type": "code",
      "source": [
        "def my_function(parameter1, parameter2):\n",
        "    # function body\n",
        "    pass"
      ],
      "metadata": {
        "id": "TcYVg9p8wGH9"
      },
      "execution_count": null,
      "outputs": []
    },
    {
      "cell_type": "markdown",
      "source": [
        "* Using lambda keyword (for anonymous functions): Used for creating small, single-expression functions ."
      ],
      "metadata": {
        "id": "FCQTRj7xw96s"
      }
    },
    {
      "cell_type": "code",
      "source": [
        "my_lambda_function = lambda parameter1, parameter2: expression"
      ],
      "metadata": {
        "id": "IeLN09fJxBqN"
      },
      "execution_count": null,
      "outputs": []
    },
    {
      "cell_type": "markdown",
      "source": [
        "* Keyword arguments: Arguments are passed by explicitly naming the parameter."
      ],
      "metadata": {
        "id": "eWTzkZxNxRRs"
      }
    },
    {
      "cell_type": "code",
      "source": [
        "my_function(parameter2=value2, parameter1=value1)"
      ],
      "metadata": {
        "id": "jcX3UO3NxTfs"
      },
      "execution_count": null,
      "outputs": []
    },
    {
      "cell_type": "markdown",
      "source": [
        "* Default arguments: Parameters can have default values, allowing you to call the function without providing an argument for that parameter."
      ],
      "metadata": {
        "id": "M8nJlACMxgSV"
      }
    },
    {
      "cell_type": "code",
      "source": [
        "def greet(name=\"World\"):\n",
        "    return f\"Hello, {name}!\"\n",
        "\n",
        "print(greet()) # Output: Hello, World!\n",
        "print(greet(\"Alice\")) # Output: Hello, Alice!"
      ],
      "metadata": {
        "id": "ZPv0oKaTxirF"
      },
      "execution_count": null,
      "outputs": []
    },
    {
      "cell_type": "markdown",
      "source": [
        "* Arbitrary positional arguments (*args): Allows a function to accept a variable number of positional arguments. The arguments are packed into a tuple."
      ],
      "metadata": {
        "id": "zrpi6xigxlcr"
      }
    },
    {
      "cell_type": "code",
      "source": [
        "def sum_all(*args):\n",
        "    return sum(args)\n",
        "\n",
        "print(sum_all(1, 2, 3, 4)) # Output: 10"
      ],
      "metadata": {
        "colab": {
          "base_uri": "https://localhost:8080/"
        },
        "id": "ISqPTEV9xsa0",
        "outputId": "05113827-10b4-4e9a-e280-f94321ef4b3a"
      },
      "execution_count": 2,
      "outputs": [
        {
          "output_type": "stream",
          "name": "stdout",
          "text": [
            "10\n"
          ]
        }
      ]
    },
    {
      "cell_type": "markdown",
      "source": [
        " * Arbitrary keyword arguments (**kwargs): Allows a function to accept a variable number of keyword arguments. The arguments are packed into a dictionary."
      ],
      "metadata": {
        "id": "3wMsUGMIxw5M"
      }
    },
    {
      "cell_type": "code",
      "source": [
        "def print_info(**kwargs):\n",
        "    for key, value in kwargs.items():\n",
        "        print(f\"{key}: {value}\")\n",
        "\n",
        "print_info(name=\"Alice\", age=30)\n",
        "# Output:\n",
        "# name: Alice\n",
        "# age: 30"
      ],
      "metadata": {
        "colab": {
          "base_uri": "https://localhost:8080/"
        },
        "id": "1HDAk4Hax48N",
        "outputId": "0283a622-fe15-4533-b655-c69d1adc67c2"
      },
      "execution_count": 3,
      "outputs": [
        {
          "output_type": "stream",
          "name": "stdout",
          "text": [
            "name: Alice\n",
            "age: 30\n"
          ]
        }
      ]
    },
    {
      "cell_type": "markdown",
      "source": [
        "4. What is the purpose of the `return` statement in a Python function?\n",
        "\n",
        " ANS -: The return statement in a Python function is used to exit the function and send a value back to the caller.\n",
        "\n",
        "Here's a breakdown of its purpose:\n",
        "\n",
        "Sending a value back: The primary use of return is to make the result of a function's computation available to the code that called it.\n",
        "\n",
        "Exiting the function: When a return statement is encountered, the function stops executing immediately, regardless of whether there is more code after the return statement.\n",
        "\n",
        "If a function doesn't have a return statement, or if it has a return statement without a value, it implicitly returns None.\n",
        "\n",
        "Here's an example:"
      ],
      "metadata": {
        "id": "iAen4K7vU2ee"
      }
    },
    {
      "cell_type": "code",
      "source": [
        "def multiply(a, b):\n",
        "  result = a * b\n",
        "  return result # The function returns the value of 'result'\n",
        "\n",
        "product = multiply(5, 3)\n",
        "print(product) # Output: 15\n",
        "\n",
        "def greet(name):\n",
        "    print(f\"Hello, {name}!\")\n",
        "    # No return statement, so it implicitly returns None\n",
        "\n",
        "greeting = greet(\"Bob\")\n",
        "print(greeting) # Output: None"
      ],
      "metadata": {
        "colab": {
          "base_uri": "https://localhost:8080/"
        },
        "id": "HyiQ_gChyRR-",
        "outputId": "037e3247-7faf-47a7-9eb7-22fc531938ff"
      },
      "execution_count": 4,
      "outputs": [
        {
          "output_type": "stream",
          "name": "stdout",
          "text": [
            "15\n",
            "Hello, Bob!\n",
            "None\n"
          ]
        }
      ]
    },
    {
      "cell_type": "markdown",
      "source": [
        "5. What are iterators in Python and how do they differ from iterables?\n",
        "\n",
        "ANS-  Iterators and iterables are both fundamental concepts in Python for working with sequences of data, but they have distinct roles.\n",
        "\n",
        "An iterable is an object that can be looped over. This means it's a collection of items that you can traverse one by one. Examples of iterables include lists, tuples, strings, and dictionaries. Objects are considered iterable if they implement the __iter__ method, which returns an iterator.\n",
        "\n",
        "An iterator is an object that represents a stream of data. It's what actually does the iterating. An iterator must implement the __iter__ method (which should return the iterator object itself) and the __next__ method. The __next__ method returns the next item from the stream. When there are no more items, it raises the StopIteration exception.\n",
        "\n",
        "Here's how they differ and an example:\n",
        "\n",
        "Iterable: You can call iter() on an iterable to get an iterator. You can loop over an iterable multiple times.\n",
        "\n",
        "Iterator: You get an iterator from an iterable. You can only loop over an iterator once. Once all items have been consumed by calling __next__, the iterator is exhausted.\n",
        "\n",
        "Here's an example:"
      ],
      "metadata": {
        "id": "YMSUBRExU4Me"
      }
    },
    {
      "cell_type": "code",
      "source": [
        "# This is an iterable (a list)\n",
        "my_list = [1, 2, 3, 4]\n",
        "\n",
        "# We can iterate over the list directly\n",
        "print(\"Iterating over the list:\")\n",
        "for item in my_list:\n",
        "    print(item)\n",
        "\n",
        "# Get an iterator from the iterable\n",
        "my_iterator = iter(my_list)\n",
        "\n",
        "# Use the iterator to get the next element\n",
        "print(\"\\nUsing the iterator:\")\n",
        "print(next(my_iterator))\n",
        "print(next(my_iterator))\n",
        "\n",
        "# Once the iterator is exhausted, calling next() raises StopIteration\n",
        "# print(next(my_iterator))\n",
        "# print(next(my_iterator))\n",
        "# print(next(my_iterator)) # This would raise StopIteration\n",
        "\n",
        "# We can get a new iterator from the iterable to iterate again\n",
        "new_iterator = iter(my_list)\n",
        "print(\"\\nIterating again with a new iterator:\")\n",
        "for item in new_iterator:\n",
        "    print(item)"
      ],
      "metadata": {
        "colab": {
          "base_uri": "https://localhost:8080/"
        },
        "id": "HpGEkVPTyaGk",
        "outputId": "4df8b6d1-c45d-492b-b11c-972c061c4543"
      },
      "execution_count": 5,
      "outputs": [
        {
          "output_type": "stream",
          "name": "stdout",
          "text": [
            "Iterating over the list:\n",
            "1\n",
            "2\n",
            "3\n",
            "4\n",
            "\n",
            "Using the iterator:\n",
            "1\n",
            "2\n",
            "\n",
            "Iterating again with a new iterator:\n",
            "1\n",
            "2\n",
            "3\n",
            "4\n"
          ]
        }
      ]
    },
    {
      "cell_type": "markdown",
      "source": [
        "6. Explain the concept of generators in Python and how they are defined.\n",
        "\n",
        "ANS-  Generators are a powerful and memory-efficient way to create iterators in Python. They are defined like regular functions, but instead of using the return statement to return a single value and exit, they use the yield keyword to yield a sequence of values.\n",
        "\n",
        "When a generator function is called, it doesn't execute the code immediately. Instead, it returns a generator object. The code in the generator function is executed only when next() is called on the generator object (either explicitly or implicitly in a loop). When yield is encountered, the function's state is saved, and the yielded value is returned. The next time next() is called, the function resumes from where it left off.\n",
        "\n",
        "Here's how they are defined and an example:\n",
        "\n",
        "Defined using def with the yield keyword:"
      ],
      "metadata": {
        "id": "EX9mRQAKU91m"
      }
    },
    {
      "cell_type": "code",
      "source": [
        "def my_generator():\n",
        "    yield 1\n",
        "    yield 2\n",
        "    yield 3"
      ],
      "metadata": {
        "id": "OklI0q7DzOLs"
      },
      "execution_count": null,
      "outputs": []
    },
    {
      "cell_type": "markdown",
      "source": [
        "Here's an example demonstrating how to use a generator:"
      ],
      "metadata": {
        "id": "ppzSFmHxzS1o"
      }
    },
    {
      "cell_type": "code",
      "source": [
        "def count_up_to(n):\n",
        "    i = 1\n",
        "    while i <= n:\n",
        "        yield i\n",
        "        i += 1\n",
        "\n",
        "# Create a generator object\n",
        "counter = count_up_to(5)\n",
        "\n",
        "# Iterate through the values yielded by the generator\n",
        "print(\"Using a for loop:\")\n",
        "for number in counter:\n",
        "    print(number)\n",
        "\n",
        "# You can also use next() to get values one by one\n",
        "print(\"\\nUsing next():\")\n",
        "another_counter = count_up_to(3)\n",
        "print(next(another_counter))\n",
        "print(next(another_counter))\n",
        "print(next(another_counter))\n",
        "# print(next(another_counter)) # This would raise StopIteration"
      ],
      "metadata": {
        "colab": {
          "base_uri": "https://localhost:8080/"
        },
        "id": "QgfeFU0OzT0U",
        "outputId": "c54d8288-c34b-4fee-831e-a36e462e628b"
      },
      "execution_count": 6,
      "outputs": [
        {
          "output_type": "stream",
          "name": "stdout",
          "text": [
            "Using a for loop:\n",
            "1\n",
            "2\n",
            "3\n",
            "4\n",
            "5\n",
            "\n",
            "Using next():\n",
            "1\n",
            "2\n",
            "3\n"
          ]
        }
      ]
    },
    {
      "cell_type": "markdown",
      "source": [
        "7. What are the advantages of using generators over regular functions?\n",
        "\n",
        "ANS - Generators offer several advantages over regular functions when dealing with sequences of data, primarily related to memory efficiency and the ability to work with potentially infinite sequences.\n",
        "\n",
        "Here are some key advantages:\n",
        "\n",
        "* Memory Efficiency: Generators produce items one at a time and only keep track of their current state. This is in contrast to regular functions that return a list or other data structure containing all the values, which can consume a lot of memory for large datasets.\n",
        "* Lazy Evaluation: Values are generated on demand as they are needed, rather than all at once. This is particularly useful for large or infinite sequences where generating all values upfront would be impossible or impractical.\n",
        "* Simpler Code for Iterators: Generators provide a more concise and readable way to create iterators compared to writing a custom class with __iter__ and __next__ methods.\n",
        "* Working with Infinite Sequences: Since generators yield values one at a time, they can be used to represent infinite sequences without running out of memory.\n",
        "\n",
        "Here's an example demonstrating memory efficiency:"
      ],
      "metadata": {
        "id": "v0I0LxJCVDfC"
      }
    },
    {
      "cell_type": "code",
      "source": [
        "import sys\n",
        "# Regular function that returns a list\n",
        "def create_list(n):\n",
        "    my_list = []\n",
        "    for i in range(n):\n",
        "        my_list.append(i)\n",
        "    return my_list\n",
        "# Generator function\n",
        "def create_generator(n):\n",
        "    for i in range(n):\n",
        "        yield i\n",
        "# Compare memory usage\n",
        "list_of_numbers = create_list(1000000)\n",
        "generator_of_numbers = create_generator(1000000)\n",
        "print(f\"Memory used by list: {sys.getsizeof(list_of_numbers)} bytes\")\n",
        "print(f\"Memory used by generator: {sys.getsizeof(generator_of_numbers)} bytes\")\n",
        "# You can iterate through the generator without loading all values into memory\n",
        "print(\"\\nIterating through the generator:\")\n",
        "for i in generator_of_numbers:\n",
        "    if i > 10:\n",
        "        break\n",
        "    print(i)"
      ],
      "metadata": {
        "colab": {
          "base_uri": "https://localhost:8080/"
        },
        "id": "B26RQhLmz2WU",
        "outputId": "a63b146d-f572-455a-c2d4-86cd95956760"
      },
      "execution_count": 8,
      "outputs": [
        {
          "output_type": "stream",
          "name": "stdout",
          "text": [
            "Memory used by list: 8448728 bytes\n",
            "Memory used by generator: 200 bytes\n",
            "\n",
            "Iterating through the generator:\n",
            "0\n",
            "1\n",
            "2\n",
            "3\n",
            "4\n",
            "5\n",
            "6\n",
            "7\n",
            "8\n",
            "9\n",
            "10\n"
          ]
        }
      ]
    },
    {
      "cell_type": "markdown",
      "source": [
        "8. What is a lambda function in Python and when is it typically used?\n",
        "\n",
        "ANS - A lambda function in Python is a small, anonymous function defined using the lambda keyword. It can take any number of arguments but can only have one expression. The result of the expression is the value returned by the lambda function.\n",
        "\n",
        "Lambda functions are typically used for short, simple operations where a full function definition using def would be overly verbose or unnecessary. They are often used in conjunction with functions that take other functions as arguments, such as map(), filter(), and sorted().\n",
        "\n",
        "Here's an example:"
      ],
      "metadata": {
        "id": "wiZs7an8VHWn"
      }
    },
    {
      "cell_type": "code",
      "source": [
        "# A regular function\n",
        "def add(x, y):\n",
        "  return x + y\n",
        "\n",
        "# The equivalent lambda function\n",
        "add_lambda = lambda x, y: x + y\n",
        "\n",
        "print(add(2, 3))\n",
        "print(add_lambda(2, 3))\n",
        "\n",
        "# Using lambda with sorted()\n",
        "my_list = [(1, 5), (3, 2), (2, 8)]\n",
        "sorted_list = sorted(my_list, key=lambda item: item[1])\n",
        "print(sorted_list)"
      ],
      "metadata": {
        "colab": {
          "base_uri": "https://localhost:8080/"
        },
        "id": "xuQ9AiZf0aHO",
        "outputId": "042b77d8-c7e2-4ca0-ef37-71573e6de039"
      },
      "execution_count": 9,
      "outputs": [
        {
          "output_type": "stream",
          "name": "stdout",
          "text": [
            "5\n",
            "5\n",
            "[(3, 2), (1, 5), (2, 8)]\n"
          ]
        }
      ]
    },
    {
      "cell_type": "markdown",
      "source": [
        "9. Explain the purpose and usage of the `map()` function in Python.\n",
        "\n",
        "ANS -The map() function in Python is a built-in function that applies a given function to each item of an iterable (like a list or tuple) and returns an iterator that yields the results. It's a concise way to perform the same operation on every element of a sequence without writing an explicit for loop.\n",
        "\n",
        "Here's an example:"
      ],
      "metadata": {
        "id": "_Tbc2xfcVMiQ"
      }
    },
    {
      "cell_type": "code",
      "source": [
        "# A list of numbers\n",
        "numbers = [1, 2, 3, 4, 5]\n",
        "\n",
        "# A function to square a number\n",
        "def square(x):\n",
        "  return x**2\n",
        "\n",
        "# Using map() to apply the square function to each number\n",
        "squared_numbers_iterator = map(square, numbers)\n",
        "\n",
        "# Convert the iterator to a list to see the results\n",
        "squared_numbers_list = list(squared_numbers_iterator)\n",
        "\n",
        "print(squared_numbers_list)\n",
        "\n",
        "# Using map() with a lambda function\n",
        "squared_numbers_lambda = list(map(lambda x: x**2, numbers))\n",
        "print(squared_numbers_lambda)"
      ],
      "metadata": {
        "colab": {
          "base_uri": "https://localhost:8080/"
        },
        "id": "aF_8KhYb0tg2",
        "outputId": "3d3b2895-9b32-4706-d6f4-71b3ccb01f30"
      },
      "execution_count": 10,
      "outputs": [
        {
          "output_type": "stream",
          "name": "stdout",
          "text": [
            "[1, 4, 9, 16, 25]\n",
            "[1, 4, 9, 16, 25]\n"
          ]
        }
      ]
    },
    {
      "cell_type": "markdown",
      "source": [
        "10. What is the difference between `map()`, `reduce()`, and `filter()` functions in Python?\n",
        "\n",
        "ANS - The map(), filter(), and reduce() functions in Python are built-in tools for functional programming, each serving a distinct purpose in data transformation and aggregation:\n",
        "\n",
        "* map(): This function applies a given function to each item in an iterable (like a list, tuple, or set) and returns an iterator that yields the results. It is used for transformation, creating a new iterable where each element is the result of applying the function to the corresponding element of the original iterable .\n",
        "\n"
      ],
      "metadata": {
        "id": "Wh8NsnCGVQBX"
      }
    },
    {
      "cell_type": "code",
      "source": [
        "    # Example of map()\n",
        "    numbers = [1, 2, 3, 4]\n",
        "    squared_numbers = list(map(lambda x: x * x, numbers))\n",
        "    # squared_numbers will be [1, 4, 9, 16]"
      ],
      "metadata": {
        "id": "y3_045Fw1WN1"
      },
      "execution_count": 12,
      "outputs": []
    },
    {
      "cell_type": "markdown",
      "source": [
        "* filter(): This function constructs an iterator from elements of an iterable for which a function returns True. It is used for selection, creating a new iterable containing only the elements from the original iterable that satisfy a specific condition. The function passed to filter() must return a boolean value ."
      ],
      "metadata": {
        "id": "R1Wn-8kF1Z2E"
      }
    },
    {
      "cell_type": "code",
      "source": [
        "    # Example of filter()\n",
        "    numbers = [1, 2, 3, 4, 5, 6]\n",
        "    even_numbers = list(filter(lambda x: x % 2 == 0, numbers))\n",
        "    # even_numbers will be [2, 4, 6]"
      ],
      "metadata": {
        "id": "F_ghdqVc1kbc"
      },
      "execution_count": 13,
      "outputs": []
    },
    {
      "cell_type": "markdown",
      "source": [
        "* reduce(): Found in the functools module (not a built-in function in Python 3), reduce() applies a rolling computation to sequential pairs of elements in an iterable, reducing the iterable to a single cumulative value. It is used for aggregation, combining elements of an iterable into a single result."
      ],
      "metadata": {
        "id": "dFTrSIgH1p69"
      }
    },
    {
      "cell_type": "code",
      "source": [
        "    from functools import reduce\n",
        "    # Example of reduce()\n",
        "    numbers = [1, 2, 3, 4]\n",
        "    sum_of_numbers = reduce(lambda x, y: x + y, numbers)\n",
        "    # sum_of_numbers will be 10 (1+2=3, 3+3=6, 6+4=10)"
      ],
      "metadata": {
        "id": "KTNyIe-R1v7E"
      },
      "execution_count": 14,
      "outputs": []
    },
    {
      "cell_type": "markdown",
      "source": [
        "11. Using pen & Paper write the internal mechanism for sum operation using  reduce function on this given\n",
        "list:[47,11,42,13];\n",
        "\n",
        "ANS  - The internal mechanism of the reduce function for a sum operation on the list [47, 11, 42, 13].\n",
        "\n",
        "The reduce() function applies a function of two arguments cumulatively to the items of an iterable. In the case of a sum operation with lambda x, y: x + y, it works as follows:\n",
        "\n",
        "\n",
        "Step 1: The lambda function is applied to the first two elements of the list: 47 and 11.\n",
        "\n",
        "x = 47, y = 11\n",
        "\n",
        "Result: 47 + 11 = 58\n",
        "\n",
        "Step 2: The result from Step 1 (58) becomes the new x, and the next element in the list (42) becomes the new y.\n",
        "\n",
        "x = 58, y = 42\n",
        "\n",
        "Result: 58 + 42 = 100\n",
        "\n",
        "Step 3: The result from Step 2 (100) becomes the new x, and the next element in the list (13) becomes the new y.\n",
        "\n",
        "x = 100, y = 13\n",
        "\n",
        "Result: 100 + 13 = 113\n",
        "\n",
        "Final Result: Since there are no more elements in the list, the final result of the reduce() operation is 113."
      ],
      "metadata": {
        "id": "dMmDNgTxVTzu"
      }
    },
    {
      "cell_type": "markdown",
      "source": [
        "# ***Practical Questions:***"
      ],
      "metadata": {
        "id": "ENs1TIZeVY9X"
      }
    },
    {
      "cell_type": "markdown",
      "source": [
        "1. Write a Python function that takes a list of numbers as input and returns the sum of all even numbers in\n",
        "the list."
      ],
      "metadata": {
        "id": "pqi0BOl3VkuO"
      }
    },
    {
      "cell_type": "code",
      "source": [
        "def sum_even_numbers(numbers):\n",
        "    even_numbers = list(filter(lambda x: x % 2 == 0, numbers))\n",
        "    return sum(even_numbers)"
      ],
      "metadata": {
        "id": "RGpBeZy9a8PP"
      },
      "execution_count": null,
      "outputs": []
    },
    {
      "cell_type": "code",
      "source": [
        "sum_even_numbers([67, 20, 4, 15, 64])"
      ],
      "metadata": {
        "colab": {
          "base_uri": "https://localhost:8080/"
        },
        "id": "lRGPSJBRa_33",
        "outputId": "7d94e853-1bee-433e-f34b-ec9c8336e9dd"
      },
      "execution_count": null,
      "outputs": [
        {
          "output_type": "execute_result",
          "data": {
            "text/plain": [
              "88"
            ]
          },
          "metadata": {},
          "execution_count": 5
        }
      ]
    },
    {
      "cell_type": "markdown",
      "source": [
        "2. Create a Python function that accepts a string and returns the reverse of that string."
      ],
      "metadata": {
        "id": "BZiVnRlEVs2f"
      }
    },
    {
      "cell_type": "code",
      "source": [
        "def reverse_string(string):\n",
        "    return string[::-1]"
      ],
      "metadata": {
        "id": "ZTPgSSVTey4A"
      },
      "execution_count": null,
      "outputs": []
    },
    {
      "cell_type": "code",
      "source": [
        "string = \"Hello World\"\n",
        "reverse_string(string)"
      ],
      "metadata": {
        "colab": {
          "base_uri": "https://localhost:8080/",
          "height": 35
        },
        "id": "ZHk7Xjtye4u9",
        "outputId": "d2d203c3-e244-480c-b404-9a76680503ac"
      },
      "execution_count": null,
      "outputs": [
        {
          "output_type": "execute_result",
          "data": {
            "text/plain": [
              "'dlroW olleH'"
            ],
            "application/vnd.google.colaboratory.intrinsic+json": {
              "type": "string"
            }
          },
          "metadata": {},
          "execution_count": 2
        }
      ]
    },
    {
      "cell_type": "markdown",
      "source": [
        "3. Implement a Python function that takes a list of integers and returns a new list containing the squares of\n",
        "each number."
      ],
      "metadata": {
        "id": "cxyReOsmVzzP"
      }
    },
    {
      "cell_type": "code",
      "source": [
        "def square_numbers(numbers):\n",
        "    return list(map(lambda x: x**2, numbers))"
      ],
      "metadata": {
        "id": "mr_3qTUnfAYd"
      },
      "execution_count": null,
      "outputs": []
    },
    {
      "cell_type": "code",
      "source": [
        "numbers = [1, 2, 3, 4, 5]\n",
        "square_numbers(numbers)"
      ],
      "metadata": {
        "colab": {
          "base_uri": "https://localhost:8080/"
        },
        "id": "lPRhTsxaf3DU",
        "outputId": "a7adfba7-f72c-4183-c5ed-6daeb2a1cf2d"
      },
      "execution_count": null,
      "outputs": [
        {
          "output_type": "execute_result",
          "data": {
            "text/plain": [
              "[1, 4, 9, 16, 25]"
            ]
          },
          "metadata": {},
          "execution_count": 12
        }
      ]
    },
    {
      "cell_type": "markdown",
      "source": [
        "4. Write a Python function that checks if a given number is prime or not from 1 to 200."
      ],
      "metadata": {
        "id": "c5UdH4ReV4UX"
      }
    },
    {
      "cell_type": "code",
      "source": [
        "def is_prime(number):\n",
        "    if number < 2:\n",
        "        return False\n",
        "    for i in range(2, int(number**0.5) + 1):\n",
        "        if number % i == 0:\n",
        "            return False\n",
        "    return True"
      ],
      "metadata": {
        "id": "URmoSFwrfinT"
      },
      "execution_count": null,
      "outputs": []
    },
    {
      "cell_type": "code",
      "source": [
        "number = 17\n",
        "is_prime(number)"
      ],
      "metadata": {
        "colab": {
          "base_uri": "https://localhost:8080/"
        },
        "id": "KMAgTq2IfmVY",
        "outputId": "b8d24dfd-4b03-4eb2-8f45-b167c6365552"
      },
      "execution_count": null,
      "outputs": [
        {
          "output_type": "execute_result",
          "data": {
            "text/plain": [
              "True"
            ]
          },
          "metadata": {},
          "execution_count": 11
        }
      ]
    },
    {
      "cell_type": "markdown",
      "source": [
        "5. Create an iterator class in Python that generates the Fibonacci sequence up to a specified number of\n",
        "terms."
      ],
      "metadata": {
        "id": "ZPp7gHaCV_il"
      }
    },
    {
      "cell_type": "code",
      "source": [
        "def fibonacci_sequence(n):\n",
        "    a, b = 0, 1\n",
        "    for i in range(n):\n",
        "        yield a\n",
        "        a, b = b, a + b"
      ],
      "metadata": {
        "id": "z29orM29idvJ"
      },
      "execution_count": null,
      "outputs": []
    },
    {
      "cell_type": "code",
      "source": [
        "n = 10\n",
        "for number in fibonacci_sequence(n):\n",
        "    print(number)"
      ],
      "metadata": {
        "colab": {
          "base_uri": "https://localhost:8080/"
        },
        "id": "gLqO-6BaihdK",
        "outputId": "78e87225-7294-4819-ac71-76f3643773f3"
      },
      "execution_count": null,
      "outputs": [
        {
          "output_type": "stream",
          "name": "stdout",
          "text": [
            "0\n",
            "1\n",
            "1\n",
            "2\n",
            "3\n",
            "5\n",
            "8\n",
            "13\n",
            "21\n",
            "34\n"
          ]
        }
      ]
    },
    {
      "cell_type": "markdown",
      "source": [
        "6. Write a generator function in Python that yields the powers of 2 up to a given exponent."
      ],
      "metadata": {
        "id": "yvMssEltWA--"
      }
    },
    {
      "cell_type": "code",
      "source": [
        "def power_of_two(exponent):\n",
        "    for i in range(exponent + 1):\n",
        "        yield 2 ** i"
      ],
      "metadata": {
        "id": "p3SyXUHtf98v"
      },
      "execution_count": null,
      "outputs": []
    },
    {
      "cell_type": "code",
      "source": [
        "exponent = 5\n",
        "for power in power_of_two(exponent):\n",
        "    print(power)"
      ],
      "metadata": {
        "colab": {
          "base_uri": "https://localhost:8080/"
        },
        "id": "i-DPGGKsgBpW",
        "outputId": "aeeed680-646f-4c35-a555-ef482f54af6d"
      },
      "execution_count": null,
      "outputs": [
        {
          "output_type": "stream",
          "name": "stdout",
          "text": [
            "1\n",
            "2\n",
            "4\n",
            "8\n",
            "16\n",
            "32\n"
          ]
        }
      ]
    },
    {
      "cell_type": "markdown",
      "source": [
        "7. Implement a generator function that reads a file line by line and yields each line as a string."
      ],
      "metadata": {
        "id": "wgE7kMZlWGlt"
      }
    },
    {
      "cell_type": "code",
      "source": [
        "# Create a dummy file for demonstration\n",
        "file_content = \"\"\"This is the first line.\n",
        "This is the second line.\n",
        "This is the third line.\"\"\"\n",
        "\n",
        "with open(\"my_dummy_file.txt\", \"w\") as f:\n",
        "    f.write(file_content)"
      ],
      "metadata": {
        "id": "HVBEnEoz3Uyj"
      },
      "execution_count": null,
      "outputs": []
    },
    {
      "cell_type": "code",
      "source": [
        "def read_file_line_by_line(filepath):\n",
        "    \"\"\"\n",
        "    A generator function that reads a file line by line and yields each line.\n",
        "\n",
        "    Args:\n",
        "        filepath (str): The path to the file to read.\n",
        "\n",
        "    Yields:\n",
        "        str: Each line of the file as a string.\n",
        "    \"\"\"\n",
        "    with open(filepath, 'r') as f:\n",
        "        for line in f:\n",
        "            yield line.strip() # Use strip() to remove leading/trailing whitespace, including newline characters\n",
        "\n",
        "# Example usage:\n",
        "for line in read_file_line_by_line(\"my_dummy_file.txt\"):\n",
        "    print(line)"
      ],
      "metadata": {
        "colab": {
          "base_uri": "https://localhost:8080/"
        },
        "id": "l0tfwA9M3yfO",
        "outputId": "3c478a94-93bb-4f02-a0e3-add7c65b7643"
      },
      "execution_count": 16,
      "outputs": [
        {
          "output_type": "stream",
          "name": "stdout",
          "text": [
            "This is the first line.\n",
            "This is the second line.\n",
            "This is the third line.\n"
          ]
        }
      ]
    },
    {
      "cell_type": "markdown",
      "source": [
        "8. Use a lambda function in Python to sort a list of tuples based on the second element of each tuple."
      ],
      "metadata": {
        "id": "ypTrjCq1WKjX"
      }
    },
    {
      "cell_type": "code",
      "source": [
        "def sort_list_of_tuples(list_of_tuples):\n",
        "    return sorted(list_of_tuples, key=lambda x: x[1])"
      ],
      "metadata": {
        "id": "E4rdGSqGg6u3"
      },
      "execution_count": null,
      "outputs": []
    },
    {
      "cell_type": "code",
      "source": [
        "list_of_tuples = [(1, 3), (3, 2), (2, 1)]\n",
        "sort_list_of_tuples(list_of_tuples)"
      ],
      "metadata": {
        "colab": {
          "base_uri": "https://localhost:8080/"
        },
        "id": "lBozt0_ag88M",
        "outputId": "7a8c5390-b46e-4e95-9a88-e2e7a988b098"
      },
      "execution_count": null,
      "outputs": [
        {
          "output_type": "execute_result",
          "data": {
            "text/plain": [
              "[(2, 1), (3, 2), (1, 3)]"
            ]
          },
          "metadata": {},
          "execution_count": 22
        }
      ]
    },
    {
      "cell_type": "markdown",
      "source": [
        "9. Write a Python program that uses `map()` to convert a list of temperatures from Celsius to Fahrenheit."
      ],
      "metadata": {
        "id": "cGrhc7lhWOam"
      }
    },
    {
      "cell_type": "code",
      "source": [
        "def celsius_to_fahrenheit(celsius):\n",
        "    return (celsius * 9/5) + 32"
      ],
      "metadata": {
        "id": "JkUf2uQKgdi3"
      },
      "execution_count": null,
      "outputs": []
    },
    {
      "cell_type": "code",
      "source": [
        "celsius = [0, 10, 20, 30, 40]\n",
        "fahrenheit = list(map(celsius_to_fahrenheit, celsius))\n",
        "print(fahrenheit)"
      ],
      "metadata": {
        "colab": {
          "base_uri": "https://localhost:8080/"
        },
        "id": "fhc4MD-jghE0",
        "outputId": "1bfb673c-506c-4bb8-f39e-26823356e888"
      },
      "execution_count": null,
      "outputs": [
        {
          "output_type": "stream",
          "name": "stdout",
          "text": [
            "[32.0, 50.0, 68.0, 86.0, 104.0]\n"
          ]
        }
      ]
    },
    {
      "cell_type": "markdown",
      "source": [
        "10. Create a Python program that uses `filter()` to remove all the vowels from a given string."
      ],
      "metadata": {
        "id": "ArY4GSLPWR8_"
      }
    },
    {
      "cell_type": "code",
      "source": [
        "def sum_even_numbers(numbers):\n",
        "    even_numbers = list(filter(lambda x: x % 2 == 0, numbers))\n",
        "    return sum(even_numbers)"
      ],
      "metadata": {
        "id": "prPtySnpaViG"
      },
      "execution_count": null,
      "outputs": []
    },
    {
      "cell_type": "code",
      "source": [
        "print(sum_even_numbers([67, 20, 4, 15, 8]))"
      ],
      "metadata": {
        "colab": {
          "base_uri": "https://localhost:8080/"
        },
        "id": "QWQ0UhSHafv9",
        "outputId": "a62a70e8-03a5-40f8-9283-f9dbf28c16ad"
      },
      "execution_count": null,
      "outputs": [
        {
          "output_type": "stream",
          "name": "stdout",
          "text": [
            "32\n"
          ]
        }
      ]
    },
    {
      "cell_type": "markdown",
      "source": [
        "11. Imagine an accounting routine used in a book shop. It works on a list with sublists, which look like this:\n",
        "\n",
        "![khugyuj.jpg](data:image/jpeg;base64,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)\n",
        "\n",
        "\n",
        "\n",
        "\n",
        "Write a Python program, which returns a list with 2-tuples. Each tuple consists of the order number and the\n",
        "product of the price per item and the quantity. The product should be increased by 10,- € if the value of the\n",
        "order is smaller than 100,00 €.\n",
        "\n",
        "\n",
        "\n",
        "Write a Python program using lambda and map."
      ],
      "metadata": {
        "id": "1EqO4_8pWWZ-"
      }
    },
    {
      "cell_type": "code",
      "source": [
        "def calculate_order_totals(orders):\n",
        "    processed_orders = list(map(\n",
        "        lambda order: (order[0], order[2] * order[3] + (10 if order[2] * order[3] < 100 else 0)),\n",
        "        orders\n",
        "    ))\n",
        "    return processed_orders\n",
        "\n",
        "# Example usage:\n",
        "orders_data = [\n",
        "    [\"34587\", \"Learning Python, Mark Lutz\", 4, 40.95],\n",
        "    [\"98762\", \"Programming Python, Mark Lutz\", 5, 56.80],\n",
        "    [\"77226\", \"Head First Python, Paul Barry\", 3, 32.95],\n",
        "    [\"88112\", \"Python Cookbook, David Beazley\", 3, 24.99]\n",
        "]\n",
        "\n",
        "result = calculate_order_totals(orders_data)\n",
        "print(result)"
      ],
      "metadata": {
        "id": "Vf0z1Pz7g0NE",
        "colab": {
          "base_uri": "https://localhost:8080/"
        },
        "outputId": "82600bba-2b34-48e6-b6bc-505f4a832030"
      },
      "execution_count": 18,
      "outputs": [
        {
          "output_type": "stream",
          "name": "stdout",
          "text": [
            "[('34587', 163.8), ('98762', 284.0), ('77226', 108.85000000000001), ('88112', 84.97)]\n"
          ]
        }
      ]
    }
  ]
}